{
 "cells": [
  {
   "cell_type": "code",
   "execution_count": 11,
   "id": "4c4b5788-f30a-4a5d-897b-3fb4256e3fcd",
   "metadata": {},
   "outputs": [],
   "source": [
    "import sqlite3"
   ]
  },
  {
   "cell_type": "code",
   "execution_count": 12,
   "id": "a4293c8b-b0e8-4fb8-bebc-758e12a2f0a7",
   "metadata": {},
   "outputs": [],
   "source": [
    "connection = sqlite3.connect('movies.db')"
   ]
  },
  {
   "cell_type": "code",
   "execution_count": 13,
   "id": "ea2273f7-39e2-4514-96c1-d1e706cd65ef",
   "metadata": {},
   "outputs": [],
   "source": [
    "cursor = connection.cursor()"
   ]
  },
  {
   "cell_type": "code",
   "execution_count": 14,
   "id": "9c6f3dce-9099-4079-a918-7f6af64a6a5b",
   "metadata": {},
   "outputs": [
    {
     "data": {
      "text/plain": [
       "<sqlite3.Cursor at 0x200986e5420>"
      ]
     },
     "execution_count": 14,
     "metadata": {},
     "output_type": "execute_result"
    }
   ],
   "source": [
    "cursor.execute(''' CREATE TABLE IF NOT EXISTS Movies\n",
    "        (Title TEXT, Director TEXT, Year INT)''')"
   ]
  },
  {
   "cell_type": "code",
   "execution_count": 15,
   "id": "2912371c-791d-4d67-8f84-0972777d0304",
   "metadata": {},
   "outputs": [],
   "source": [
    "connection.commit()"
   ]
  },
  {
   "cell_type": "code",
   "execution_count": 16,
   "id": "f7dabc83-c6a9-40df-a422-58186e18f807",
   "metadata": {},
   "outputs": [],
   "source": [
    "connection.close()"
   ]
  },
  {
   "cell_type": "code",
   "execution_count": null,
   "id": "906beb1b-ba40-48e9-a906-89e241c3aa3a",
   "metadata": {},
   "outputs": [],
   "source": []
  },
  {
   "cell_type": "code",
   "execution_count": 17,
   "id": "869ea2c2-5d08-4896-93f7-a64ebddf9940",
   "metadata": {},
   "outputs": [
    {
     "name": "stdout",
     "output_type": "stream",
     "text": [
      "<generator object square at 0x0000020098CA9A50>\n"
     ]
    }
   ],
   "source": [
    "def square(num):\n",
    "    for n in range(1, num):\n",
    "        yield n ** 2\n",
    "\n",
    "\n",
    "print(square(10))"
   ]
  },
  {
   "cell_type": "code",
   "execution_count": null,
   "id": "7445da48-c76e-464f-a2ad-61da77947227",
   "metadata": {},
   "outputs": [],
   "source": []
  }
 ],
 "metadata": {
  "kernelspec": {
   "display_name": "Python 3 (ipykernel)",
   "language": "python",
   "name": "python3"
  },
  "language_info": {
   "codemirror_mode": {
    "name": "ipython",
    "version": 3
   },
   "file_extension": ".py",
   "mimetype": "text/x-python",
   "name": "python",
   "nbconvert_exporter": "python",
   "pygments_lexer": "ipython3",
   "version": "3.8.13"
  }
 },
 "nbformat": 4,
 "nbformat_minor": 5
}
